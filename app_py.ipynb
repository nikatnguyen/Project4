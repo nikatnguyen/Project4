{
  "nbformat": 4,
  "nbformat_minor": 0,
  "metadata": {
    "colab": {
      "provenance": [],
      "authorship_tag": "ABX9TyNYXn7cFQ/EHtKdYg2aNGR+",
      "include_colab_link": true
    },
    "kernelspec": {
      "name": "python3",
      "display_name": "Python 3"
    },
    "language_info": {
      "name": "python"
    }
  },
  "cells": [
    {
      "cell_type": "markdown",
      "metadata": {
        "id": "view-in-github",
        "colab_type": "text"
      },
      "source": [
        "<a href=\"https://colab.research.google.com/github/nikatnguyen/Project4/blob/main/app_py.ipynb\" target=\"_parent\"><img src=\"https://colab.research.google.com/assets/colab-badge.svg\" alt=\"Open In Colab\"/></a>"
      ]
    },
    {
      "cell_type": "code",
      "source": [
        "!pip install -q streamlit"
      ],
      "metadata": {
        "colab": {
          "base_uri": "https://localhost:8080/"
        },
        "id": "tfUpi6gbHBkq",
        "outputId": "a6e0e309-aac2-4830-d381-43037ae92f19"
      },
      "execution_count": 2,
      "outputs": [
        {
          "output_type": "stream",
          "name": "stdout",
          "text": [
            "\u001b[2K     \u001b[90m━━━━━━━━━━━━━━━━━━━━━━━━━━━━━━━━━━━━━━━━\u001b[0m \u001b[32m8.1/8.1 MB\u001b[0m \u001b[31m27.7 MB/s\u001b[0m eta \u001b[36m0:00:00\u001b[0m\n",
            "\u001b[2K     \u001b[90m━━━━━━━━━━━━━━━━━━━━━━━━━━━━━━━━━━━━━━━━\u001b[0m \u001b[32m195.4/195.4 kB\u001b[0m \u001b[31m22.9 MB/s\u001b[0m eta \u001b[36m0:00:00\u001b[0m\n",
            "\u001b[2K     \u001b[90m━━━━━━━━━━━━━━━━━━━━━━━━━━━━━━━━━━━━━━━━\u001b[0m \u001b[32m4.8/4.8 MB\u001b[0m \u001b[31m74.3 MB/s\u001b[0m eta \u001b[36m0:00:00\u001b[0m\n",
            "\u001b[2K     \u001b[90m━━━━━━━━━━━━━━━━━━━━━━━━━━━━━━━━━━━━━━━━\u001b[0m \u001b[32m83.0/83.0 kB\u001b[0m \u001b[31m12.5 MB/s\u001b[0m eta \u001b[36m0:00:00\u001b[0m\n",
            "\u001b[2K     \u001b[90m━━━━━━━━━━━━━━━━━━━━━━━━━━━━━━━━━━━━━━━━\u001b[0m \u001b[32m62.7/62.7 kB\u001b[0m \u001b[31m8.6 MB/s\u001b[0m eta \u001b[36m0:00:00\u001b[0m\n",
            "\u001b[?25h"
          ]
        }
      ]
    },
    {
      "cell_type": "code",
      "source": [
        "#Dependencies\n",
        "import streamlit as st\n",
        "import pickle\n",
        "import pandas as pd\n"
      ],
      "metadata": {
        "id": "rtyknLFrG6Xw"
      },
      "execution_count": 3,
      "outputs": []
    },
    {
      "cell_type": "code",
      "source": [
        "# Load the saved model\n",
        "from google.colab import drive\n",
        "drive.mount('/content/drive')\n",
        "\n",
        "# Load the saved model\n",
        "model_path = '/content/drive/My Drive/notebooks/final_model.pkl'\n",
        "\n",
        "with open(model_path, 'rb') as model_file:\n",
        "    loaded_model = pickle.load(model_file)\n"
      ],
      "metadata": {
        "colab": {
          "base_uri": "https://localhost:8080/"
        },
        "id": "uiPBqBtUG6VL",
        "outputId": "f8dd9fee-41f5-4cc3-b6fa-1ca9e2168f8d"
      },
      "execution_count": 6,
      "outputs": [
        {
          "output_type": "stream",
          "name": "stdout",
          "text": [
            "Drive already mounted at /content/drive; to attempt to forcibly remount, call drive.mount(\"/content/drive\", force_remount=True).\n"
          ]
        }
      ]
    },
    {
      "cell_type": "code",
      "source": [
        "# Streamlit App\n",
        "def main():\n",
        "    st.title(\"Predicting Obesity Using Machine Learning Model\")\n",
        "    st.write(\"\"\"This app allows you to predict an obesity diagnostic using a series of questions based on a dataset taken from Kaggle\n",
        "    \"\"\")\n",
        "\n",
        "    # Sidebar with user input\n",
        "    st.sidebar.header(\"Questionnaire\")\n",
        "\n",
        "    #Defining options for checkboxes\n",
        "    tf_options = [\"True\", \"False\"]\n",
        "    frequency_options = [\"Frequently\", \"Sometimes\", \"no\"]\n",
        "    transport_options = [\"Bike\", \"Motobike\", \"Public Transportation\", \"Waking\", \"Automobile\"]\n",
        "\n",
        "    # Example input features (you can replace this with your actual input fields)\n",
        "    age = st.sidebar.number_input(\"How old are you?\", 0.0, 100.0, 50.0)\n",
        "    height = st.sidebar.number_input(\"What is your height in meters?\", 0.0, 2)\n",
        "    weight = st.sidebar.number_input(\"What is your weight in kilograms?\", 0.0, 200.0, 50.0)\n",
        "    favc = st.sidebar.checkbox(\"Do you frequently consume high caloric foods? (Frequently meaning at least 2 servings a day)\", frequency_options)\n",
        "    fcvc = st.sidebar.select_slider(\"How frequently do you consume vegetables each day? (3 meaning at more than 2 servings a day, 2 meaning around 2 servings a day, 1 meaning one serving a day, 0 being none)\", 0, 3, 2)\n",
        "    ncp = st.sidebar.number_input(\"How many main meals do you generally have each day?\", 0, 4, 2)\n",
        "    caec = st.sidebar.checkbox(\"How often do you consume food in between meals?\", frequency_options)\n",
        "    ch20 = st.sidebar.checkbox(\"How often do you drink alcohol each day?\", frequency_options)\n",
        "    faf = st.sidebar.number_input(\"How frequently do you exercise each day?\", 0, 3, 2)\n",
        "    ch2o = st.sidebar.select_slider(\"How often do you drink water each day? (3 is frequently or about 6-8 cups a day, 2 is less frequently meaning 3-5 cups a day, 1 is 1-2 cups a day, and 0 is none)\", 0, 3, 2)\n",
        "    calc = st.sidebar.checkbox(\"Do you frequently consume alcohol?\", frequency_options)\n",
        "    smoke = st.sidebar.checkbox(\"Do you smoke?\", tf_options)\n",
        "    transportation = st.sidebar.checkbox(\"What mode of transportation do you generally take each day?\", transport_options)\n",
        "\n",
        "\n",
        "    # Perform actions based on the checkbox value\n",
        "    ##FAVC\n",
        "    if favc == 'Frequently':\n",
        "        st.write(\"Feature 1 is selected.\")\n",
        "    else:\n",
        "        st.write(\"Feature 1 is not selected.\")\n",
        "    ##CAEC\n",
        "    ##CALC\n",
        "    ##SMOKE\n",
        "    ##TRANSPORTATION\n",
        "\n",
        "\n",
        "    # Make predictions with the loaded model\n",
        "    if st.form_submit_button(\"Predict\"):\n",
        "      data = pd.DataFrame({\n",
        "        'Age': [age],\n",
        "        'Height': [height],\n",
        "        'Weight': [weight],\n",
        "        'FCVC': [fcvc],\n",
        "        'CH20': [ch20],\n",
        "        'FAF': [faf],\n",
        "        'FAVC_yes': [favc],\n",
        "        \"CAEC_Frequently\": [caec],\n",
        "        \"CALC_Sometimes\":  [caec],\n",
        "        \"CAEC_no\": [caec],\n",
        "        \"SMOKE_yes\":  [smoke],\n",
        "        \"CALC_Frequently\":  [calc],\n",
        "        \"CALC_Sometimes\":  [calc],\n",
        "        \"CALC_no\":  [calc],\n",
        "        \"MTRANS_Bike\":  [transportation],\n",
        "        \"MTRANS_Motorbike\":  [transportation],\n",
        "        \"MTRANS_Public_Transportation\":  [transportation],\n",
        "        \"MTRANS_Walking\":  [transportation] })\n",
        "      prediction = loaded_model.predict(data)\n",
        "      # Display the prediction\n",
        "      st.subheader(\"Prediction:\")\n",
        "      st.write(prediction)\n",
        "\n",
        "   st.write(\"\"\"Dataset from Kaggle: https://www.kaggle.com/datasets/aravindpcoder/obesity-or-cvd-risk-classifyregressorcluster\n",
        "    \"\"\")\n",
        "\n",
        "\n",
        "if __name__ == \"__main__\":\n",
        "    main()\n"
      ],
      "metadata": {
        "id": "LSWvYT06G6TC"
      },
      "execution_count": null,
      "outputs": []
    },
    {
      "cell_type": "code",
      "source": [],
      "metadata": {
        "id": "lflcfjqZG6O-"
      },
      "execution_count": null,
      "outputs": []
    }
  ]
}