{
 "cells": [
  {
   "cell_type": "code",
   "execution_count": null,
   "metadata": {},
   "outputs": [],
   "source": [
    "!pip install streamlit"
   ]
  },
  {
   "cell_type": "code",
   "execution_count": null,
   "metadata": {},
   "outputs": [],
   "source": [
    "import numpy as np\n",
    "import pandas as pd\n",
    "import streamlit as st\n",
    "from sklearn import preprocessing\n",
    "import pickle"
   ]
  },
  {
   "cell_type": "code",
   "execution_count": null,
   "metadata": {},
   "outputs": [],
   "source": [
    "# Load the saved model from the pickle file\n",
    "with open('obesity_nn_model.pkl', 'rb') as file:\n",
    "    loaded_model = pickle.load(file)\n",
    "\n",
    "# Create a function to make predictions using the loaded model\n",
    "def predict_obesity(input_data):\n",
    "    scaled_input_data = X_scaler.transform(input_data)\n",
    "    predictions = loaded_model.predict(scaled_input_data)\n",
    "    return predictions\n",
    "\n",
    "# Create a Streamlit app\n",
    "st.title('Obesity Type Prediction App')\n",
    "\n",
    "# Create input fields for user input\n",
    "age = st.number_input('Enter Age:', min_value=0, max_value=100)\n",
    "weight = st.number_input('Enter Weight:', min_value=0, max_value=500)\n",
    "# Add more input fields as needed\n",
    "\n",
    "# Create a DataFrame with the user input\n",
    "user_input = pd.DataFrame({'Age': [age], 'Weight': [weight]})\n",
    "\n",
    "# Make predictions when the user clicks the button\n",
    "if st.button('Predict Obesity Type'):\n",
    "    predictions = predict_obesity(user_input)\n",
    "    st.write('Predicted Probabilities for Obesity Types:')\n",
    "    st.write(predictions)\n",
    "\n",
    "# Display any additional information or visualizations as needed"
   ]
  }
 ],
 "metadata": {
  "kernelspec": {
   "display_name": "PythonData",
   "language": "python",
   "name": "pythondata"
  },
  "language_info": {
   "name": "python",
   "version": "3.11.4"
  }
 },
 "nbformat": 4,
 "nbformat_minor": 2
}
