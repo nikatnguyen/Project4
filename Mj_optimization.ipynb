{
 "cells": [
  {
   "cell_type": "code",
   "execution_count": null,
   "metadata": {},
   "outputs": [],
   "source": [
    "# Import our dependencies\n",
    "from sklearn.model_selection import train_test_split\n",
    "from sklearn.preprocessing import StandardScaler\n",
    "from sklearn.metrics import accuracy_score\n",
    "import pandas as pd\n",
    "import matplotlib as plt\n",
    "import tensorflow as tf\n",
    "import tensorflow.keras as keras\n",
    "\n",
    "#  Import and read the clean_df.csv.\n",
    "import pandas as pd \n",
    "obesity_df = pd.read_csv('https://raw.githubusercontent.com/nikatnguyen/Project4/main/Resources/clean_df.csv')\n",
    "obesity_df.head()"
   ]
  },
  {
   "cell_type": "code",
   "execution_count": null,
   "metadata": {},
   "outputs": [],
   "source": [
    "obesity_df.duplicated().sum()"
   ]
  },
  {
   "cell_type": "code",
   "execution_count": null,
   "metadata": {},
   "outputs": [],
   "source": [
    "# Convert the Age column to integers to remove decimals\n",
    "obesity_df['Age'] = obesity_df['Age'].astype(int)\n",
    "\n",
    "# Convert the Weight column to integers to remove decimals\n",
    "obesity_df['Weight'] = obesity_df['Weight'].astype(int)\n",
    "\n",
    "# Display the DataFrame to verify the changes\n",
    "print(obesity_df.head())"
   ]
  },
  {
   "cell_type": "code",
   "execution_count": null,
   "metadata": {},
   "outputs": [],
   "source": [
    "#split data into features and targets\n",
    "# Split our preprocessed data into our features and target arrays\n",
    "X = obesity_df.drop(columns=['Obesity_Type_I', 'Obesity_Type_II', 'Obesity_Type_III'])\n",
    "y = obesity_df[['Obesity_Type_I', 'Obesity_Type_II', 'Obesity_Type_III']].values\n",
    "\n",
    "# Split the preprocessed data into a training and testing dataset\n",
    "X_train, X_test, y_train, y_test = train_test_split(X, y)"
   ]
  }
 ],
 "metadata": {
  "kernelspec": {
   "display_name": "PythonData",
   "language": "python",
   "name": "pythondata"
  },
  "language_info": {
   "name": "python",
   "version": "3.11.4"
  }
 },
 "nbformat": 4,
 "nbformat_minor": 2
}
